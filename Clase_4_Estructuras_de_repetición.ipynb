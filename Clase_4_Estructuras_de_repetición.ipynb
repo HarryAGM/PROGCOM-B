{
  "nbformat": 4,
  "nbformat_minor": 0,
  "metadata": {
    "colab": {
      "provenance": [],
      "include_colab_link": true
    },
    "kernelspec": {
      "name": "python3",
      "display_name": "Python 3"
    },
    "language_info": {
      "name": "python"
    }
  },
  "cells": [
    {
      "cell_type": "markdown",
      "metadata": {
        "id": "view-in-github",
        "colab_type": "text"
      },
      "source": [
        "<a href=\"https://colab.research.google.com/github/HarryAGM/PROGCOM-B/blob/main/Clase_4_Estructuras_de_repetici%C3%B3n.ipynb\" target=\"_parent\"><img src=\"https://colab.research.google.com/assets/colab-badge.svg\" alt=\"Open In Colab\"/></a>"
      ]
    },
    {
      "cell_type": "markdown",
      "source": [
        "1\tEscribe un programa que imprima los números del 1 al 10."
      ],
      "metadata": {
        "id": "CYYSnYW9UkCx"
      }
    },
    {
      "cell_type": "code",
      "source": [
        "#for\n",
        "for n in range(10):\n",
        "  print(n+1)"
      ],
      "metadata": {
        "colab": {
          "base_uri": "https://localhost:8080/"
        },
        "id": "k7TgcBx-UwLd",
        "outputId": "fbce2899-d3a7-4868-bca2-22654f58d245"
      },
      "execution_count": null,
      "outputs": [
        {
          "output_type": "stream",
          "name": "stdout",
          "text": [
            "1\n",
            "2\n",
            "3\n",
            "4\n",
            "5\n",
            "6\n",
            "7\n",
            "8\n",
            "9\n",
            "10\n"
          ]
        }
      ]
    },
    {
      "cell_type": "code",
      "source": [
        "#for-list\n",
        "n=[1,2,3,4,5,6,7,8,9,10]\n",
        "for numero in n:\n",
        "  print(numero)"
      ],
      "metadata": {
        "colab": {
          "base_uri": "https://localhost:8080/"
        },
        "id": "33HGreocVhZF",
        "outputId": "a8e331bb-d7b2-4da9-e130-e0a6fd08f4eb"
      },
      "execution_count": null,
      "outputs": [
        {
          "output_type": "stream",
          "name": "stdout",
          "text": [
            "1\n",
            "2\n",
            "3\n",
            "4\n",
            "5\n",
            "6\n",
            "7\n",
            "8\n",
            "9\n",
            "10\n"
          ]
        }
      ]
    },
    {
      "cell_type": "markdown",
      "source": [
        "2\tEscribe un programa que sume los números del 1 al 100."
      ],
      "metadata": {
        "id": "QH8z1nNAX79i"
      }
    },
    {
      "cell_type": "code",
      "source": [
        "#for\n",
        "s=0\n",
        "for suma in range(1,101):\n",
        "  s += suma\n",
        "  print(s)"
      ],
      "metadata": {
        "colab": {
          "base_uri": "https://localhost:8080/"
        },
        "id": "8pwLXRw9X84W",
        "outputId": "8efdc09c-e853-41e8-c84a-d3225009c7af"
      },
      "execution_count": null,
      "outputs": [
        {
          "output_type": "stream",
          "name": "stdout",
          "text": [
            "1\n",
            "3\n",
            "6\n",
            "10\n",
            "15\n",
            "21\n",
            "28\n",
            "36\n",
            "45\n",
            "55\n",
            "66\n",
            "78\n",
            "91\n",
            "105\n",
            "120\n",
            "136\n",
            "153\n",
            "171\n",
            "190\n",
            "210\n",
            "231\n",
            "253\n",
            "276\n",
            "300\n",
            "325\n",
            "351\n",
            "378\n",
            "406\n",
            "435\n",
            "465\n",
            "496\n",
            "528\n",
            "561\n",
            "595\n",
            "630\n",
            "666\n",
            "703\n",
            "741\n",
            "780\n",
            "820\n",
            "861\n",
            "903\n",
            "946\n",
            "990\n",
            "1035\n",
            "1081\n",
            "1128\n",
            "1176\n",
            "1225\n",
            "1275\n",
            "1326\n",
            "1378\n",
            "1431\n",
            "1485\n",
            "1540\n",
            "1596\n",
            "1653\n",
            "1711\n",
            "1770\n",
            "1830\n",
            "1891\n",
            "1953\n",
            "2016\n",
            "2080\n",
            "2145\n",
            "2211\n",
            "2278\n",
            "2346\n",
            "2415\n",
            "2485\n",
            "2556\n",
            "2628\n",
            "2701\n",
            "2775\n",
            "2850\n",
            "2926\n",
            "3003\n",
            "3081\n",
            "3160\n",
            "3240\n",
            "3321\n",
            "3403\n",
            "3486\n",
            "3570\n",
            "3655\n",
            "3741\n",
            "3828\n",
            "3916\n",
            "4005\n",
            "4095\n",
            "4186\n",
            "4278\n",
            "4371\n",
            "4465\n",
            "4560\n",
            "4656\n",
            "4753\n",
            "4851\n",
            "4950\n",
            "5050\n"
          ]
        }
      ]
    },
    {
      "cell_type": "code",
      "source": [
        "#for-list\n",
        "l1=list(range(1,31))\n",
        "for m in l1:\n",
        "  if m %3==0:\n",
        "    print(m)"
      ],
      "metadata": {
        "colab": {
          "base_uri": "https://localhost:8080/"
        },
        "id": "YpS0vxDhY97i",
        "outputId": "ed0872be-965b-46be-ace9-6b749bf93514"
      },
      "execution_count": null,
      "outputs": [
        {
          "output_type": "stream",
          "name": "stdout",
          "text": [
            "3\n",
            "6\n",
            "9\n",
            "12\n",
            "15\n",
            "18\n",
            "21\n",
            "24\n",
            "27\n",
            "30\n"
          ]
        }
      ]
    },
    {
      "cell_type": "markdown",
      "source": [
        "3\tEscribe un programa que imprima los múltiplos de 3 entre 1 y 30."
      ],
      "metadata": {
        "id": "d_b2h3OBaCGR"
      }
    },
    {
      "cell_type": "code",
      "source": [
        "#for\n",
        "for i in range(1, 31):\n",
        "    if i % 3 == 0:\n",
        "        print(i)"
      ],
      "metadata": {
        "colab": {
          "base_uri": "https://localhost:8080/"
        },
        "id": "9vGYl22IaExp",
        "outputId": "c0d9962a-a0ab-4e0e-f633-cdfa14045407"
      },
      "execution_count": null,
      "outputs": [
        {
          "output_type": "stream",
          "name": "stdout",
          "text": [
            "3\n",
            "6\n",
            "9\n",
            "12\n",
            "15\n",
            "18\n",
            "21\n",
            "24\n",
            "27\n",
            "30\n"
          ]
        }
      ]
    },
    {
      "cell_type": "code",
      "source": [
        "#for-list\n",
        "n=[1,2,3,4,5,6,7,8,9,10,11,12,13,14,15,16,17,18,19,20,21,22,23,24,25,26,27,28,29,30]\n",
        "for numero in n:\n",
        "  if numero % 3== 0:\n",
        "    print(numero)"
      ],
      "metadata": {
        "colab": {
          "base_uri": "https://localhost:8080/"
        },
        "id": "wm-NFAEAacIH",
        "outputId": "ab4f6c65-55e8-48c8-ba4b-69aefd3bf132"
      },
      "execution_count": null,
      "outputs": [
        {
          "output_type": "stream",
          "name": "stdout",
          "text": [
            "3\n",
            "6\n",
            "9\n",
            "12\n",
            "15\n",
            "18\n",
            "21\n",
            "24\n",
            "27\n",
            "30\n"
          ]
        }
      ]
    },
    {
      "cell_type": "markdown",
      "source": [
        "4\tEscribe un programa que lea un número e imprima su tabla de multiplicar del 1 al 10."
      ],
      "metadata": {
        "id": "wysyVQ-hbyII"
      }
    },
    {
      "cell_type": "code",
      "source": [
        "#for\n",
        "n=int(input(\"Ingrese un numero: \"))\n",
        "for i in range(1,11):\n",
        "  print(f\"{n} x {i} = {n*i}\")"
      ],
      "metadata": {
        "colab": {
          "base_uri": "https://localhost:8080/"
        },
        "id": "WLV4dVeAcBQP",
        "outputId": "23d07067-0d24-4726-9f7b-4087dd96ad8b"
      },
      "execution_count": null,
      "outputs": [
        {
          "output_type": "stream",
          "name": "stdout",
          "text": [
            "Ingrese un numero: 7\n",
            "7 x 1 = 7\n",
            "7 x 2 = 14\n",
            "7 x 3 = 21\n",
            "7 x 4 = 28\n",
            "7 x 5 = 35\n",
            "7 x 6 = 42\n",
            "7 x 7 = 49\n",
            "7 x 8 = 56\n",
            "7 x 9 = 63\n",
            "7 x 10 = 70\n"
          ]
        }
      ]
    },
    {
      "cell_type": "code",
      "source": [
        "#for-list\n",
        "n=int(input(\"Ingrese un numero: \"))\n",
        "l1=list(range(1,11))\n",
        "for i in l1:\n",
        "  print(f\"{n} x {i} = {n*i}\")"
      ],
      "metadata": {
        "colab": {
          "base_uri": "https://localhost:8080/"
        },
        "id": "u9xldtCjfOgk",
        "outputId": "a51c0eb4-491a-4ea9-a90f-130888f5fa3d"
      },
      "execution_count": null,
      "outputs": [
        {
          "output_type": "stream",
          "name": "stdout",
          "text": [
            "Ingrese un numero: 3\n",
            "3 x 1 = 3\n",
            "3 x 2 = 6\n",
            "3 x 3 = 9\n",
            "3 x 4 = 12\n",
            "3 x 5 = 15\n",
            "3 x 6 = 18\n",
            "3 x 7 = 21\n",
            "3 x 8 = 24\n",
            "3 x 9 = 27\n",
            "3 x 10 = 30\n"
          ]
        }
      ]
    },
    {
      "cell_type": "markdown",
      "source": [
        "5\tEscribe un programa que pida 5 números al usuario y calcule el promedio.\n"
      ],
      "metadata": {
        "id": "JDew9REIgzZ6"
      }
    },
    {
      "cell_type": "code",
      "source": [
        "#for\n",
        "n=int(input(\"Ingrese un numero: \"))\n",
        "l=int(input(\"Ingrese un numero: \"))\n",
        "m=int(input(\"Ingrese un numero: \"))\n",
        "a=n+l+m\n",
        "for i in range(5):\n",
        "  k=(a) / 5\n",
        "  print(k)"
      ],
      "metadata": {
        "colab": {
          "base_uri": "https://localhost:8080/"
        },
        "id": "T_Vb8xO-hGwU",
        "outputId": "d98d994f-c23f-490e-8daf-a0b334ea57b6"
      },
      "execution_count": null,
      "outputs": [
        {
          "output_type": "stream",
          "name": "stdout",
          "text": [
            "Ingrese un numero: 3\n",
            "Ingrese un numero: 5\n",
            "Ingrese un numero: 6\n",
            "2.8\n",
            "2.8\n",
            "2.8\n",
            "2.8\n",
            "2.8\n"
          ]
        }
      ]
    },
    {
      "cell_type": "markdown",
      "source": [
        "6 Escribe un programa que cuente cuántos números pares hay entre 1 y un número ingresado."
      ],
      "metadata": {
        "id": "MMAOQ0fNVm79"
      }
    },
    {
      "cell_type": "code",
      "source": [
        "n = int(input(\"Ingrese un número: \"))\n",
        "c = 0\n",
        "for p in range(1, n + 1):\n",
        "    if p % 2 == 0:\n",
        "        c += 1\n",
        "print(f\"Hay {c} números pares entre 1 y {n}\")"
      ],
      "metadata": {
        "colab": {
          "base_uri": "https://localhost:8080/"
        },
        "id": "IgOXRblEVql2",
        "outputId": "5ce8d3dc-d0bb-4f48-a62b-67940f4a8aa8"
      },
      "execution_count": 2,
      "outputs": [
        {
          "output_type": "stream",
          "name": "stdout",
          "text": [
            "Ingrese un número: 6\n",
            "Hay 3 números pares entre 1 y 6\n"
          ]
        }
      ]
    }
  ]
}