{
  "nbformat": 4,
  "nbformat_minor": 0,
  "metadata": {
    "colab": {
      "provenance": [],
      "authorship_tag": "ABX9TyNFUVSEWaM1Qnh7nD05oPiR",
      "include_colab_link": true
    },
    "kernelspec": {
      "name": "python3",
      "display_name": "Python 3"
    },
    "language_info": {
      "name": "python"
    }
  },
  "cells": [
    {
      "cell_type": "markdown",
      "metadata": {
        "id": "view-in-github",
        "colab_type": "text"
      },
      "source": [
        "<a href=\"https://colab.research.google.com/github/HarryAGM/PROGCOM-B/blob/main/Clase_1_Estructura_de_selecci%C3%B3n_continuaci%C3%B3n.ipynb\" target=\"_parent\"><img src=\"https://colab.research.google.com/assets/colab-badge.svg\" alt=\"Open In Colab\"/></a>"
      ]
    },
    {
      "cell_type": "markdown",
      "source": [
        "5.par o impar"
      ],
      "metadata": {
        "id": "RYqR0UNeFQOV"
      }
    },
    {
      "cell_type": "code",
      "source": [
        "#if-else\n",
        "n=int(input(\"Ingrese un numero: \"))\n",
        "if n % 2 == 0:\n",
        "  print(\"Numero par\")\n",
        "else:\n",
        "  print(\"Numero impar\")"
      ],
      "metadata": {
        "colab": {
          "base_uri": "https://localhost:8080/"
        },
        "id": "Dn5EuvV7FSl-",
        "outputId": "0023708b-8a4b-4c72-c3f6-3f7f2691076c"
      },
      "execution_count": 4,
      "outputs": [
        {
          "output_type": "stream",
          "name": "stdout",
          "text": [
            "Ingrese un numero: 5\n",
            "Numero impar\n"
          ]
        }
      ]
    },
    {
      "cell_type": "code",
      "source": [
        "#if-elif-else\n",
        "n = int(input(\"Ingrese un número: \"))\n",
        "if n == 0:\n",
        "    print(\"No tiene valor\")\n",
        "elif n % 2 == 0:\n",
        "    print(\"Número par\")\n",
        "else:\n",
        "    print(\"Número impar\")"
      ],
      "metadata": {
        "colab": {
          "base_uri": "https://localhost:8080/"
        },
        "id": "yma-z50vGWe3",
        "outputId": "76f337a6-dfc4-42c0-d774-35265256bf0a"
      },
      "execution_count": 10,
      "outputs": [
        {
          "output_type": "stream",
          "name": "stdout",
          "text": [
            "Ingrese un número: 0\n",
            "No tiene valor\n"
          ]
        }
      ]
    },
    {
      "cell_type": "code",
      "source": [
        "#Operador terniario\n",
        "n=int(input(\"Ingrese un numero: \"))\n",
        "print(\"Numero par\") if n % 2 == 0 else print(\"Numero impar\")"
      ],
      "metadata": {
        "colab": {
          "base_uri": "https://localhost:8080/"
        },
        "id": "otO4Q5QuH7jO",
        "outputId": "464662ee-6a2e-4b77-f19b-3bf6027a7912"
      },
      "execution_count": 13,
      "outputs": [
        {
          "output_type": "stream",
          "name": "stdout",
          "text": [
            "Ingrese un numero: 5\n",
            "Numero impar\n"
          ]
        }
      ]
    },
    {
      "cell_type": "markdown",
      "source": [
        "6. Mayor de 3 numeros"
      ],
      "metadata": {
        "id": "Rfj5cpadI4E9"
      }
    },
    {
      "cell_type": "code",
      "source": [
        "#if-else\n",
        "n=int(input(\"Ingresar número A: \"))\n",
        "l=int(input(\"Ingresar número B: \"))\n",
        "h=int(input(\"Ingresar número C: \"))\n",
        "m=n\n",
        "if l>m:\n",
        "    m=l\n",
        "if h>m:\n",
        "    m=h\n",
        "if m==n:\n",
        "    print(f\"El número {m} es mayor\")\n",
        "else:\n",
        "    if m==l:\n",
        "        print(f\"El número {m} es mayor\")\n",
        "    else:\n",
        "        print(f\"El número {m} es mayor\")"
      ],
      "metadata": {
        "colab": {
          "base_uri": "https://localhost:8080/"
        },
        "id": "BylJWam4I763",
        "outputId": "414199d5-f97d-40fd-a273-24e78229f7fa"
      },
      "execution_count": 30,
      "outputs": [
        {
          "output_type": "stream",
          "name": "stdout",
          "text": [
            "Ingresar número A: 6\n",
            "Ingresar número B: 3\n",
            "Ingresar número C: 2\n",
            "El número 6 es mayor\n"
          ]
        }
      ]
    },
    {
      "cell_type": "code",
      "source": [
        "#if-elif-else\n",
        "n=int(input(\"Ingrese número A: \"))\n",
        "l=int(input(\"Ingrese número B: \"))\n",
        "h=int(input(\"Ingrese número C: \"))\n",
        "if n>=l and n>=h:\n",
        "    m=n\n",
        "elif l>=h:\n",
        "    m=l\n",
        "else:\n",
        "    m=h\n",
        "print(f\"El número mayor es {m}\")"
      ],
      "metadata": {
        "colab": {
          "base_uri": "https://localhost:8080/"
        },
        "id": "UWTMJJ6CKo5d",
        "outputId": "15ef9c90-53f8-43bb-e711-0f31940eb3a4"
      },
      "execution_count": 27,
      "outputs": [
        {
          "output_type": "stream",
          "name": "stdout",
          "text": [
            "Ingrese número A: 2\n",
            "Ingrese número B: 3\n",
            "Ingrese número C: 5\n",
            "El número mayor es 5\n"
          ]
        }
      ]
    },
    {
      "cell_type": "code",
      "source": [
        "#Operador terniario\n",
        "n=int(input(\"Ingresar número A: \"))\n",
        "l=int(input(\"Ingresar número B: \"))\n",
        "h=int(input(\"Ingresar número C: \"))\n",
        "m=n if (n>=l and n>=h) else (l if l>=h else h)\n",
        "print(f\"El número {m} es mayor\")"
      ],
      "metadata": {
        "colab": {
          "base_uri": "https://localhost:8080/"
        },
        "id": "Yie3JCfkMVF1",
        "outputId": "46fe57c1-f2e5-481e-a2d8-cf1e4e718433"
      },
      "execution_count": 38,
      "outputs": [
        {
          "output_type": "stream",
          "name": "stdout",
          "text": [
            "Ingresar número A: 4\n",
            "Ingresar número B: 7\n",
            "Ingresar número C: 6\n",
            "El número 7 es mayor\n"
          ]
        }
      ]
    },
    {
      "cell_type": "markdown",
      "source": [
        "7.indique si el año es bisiesto"
      ],
      "metadata": {
        "id": "0Ox-hL0SNoPN"
      }
    },
    {
      "cell_type": "code",
      "source": [
        "#if-else\n",
        "año=int(input(\"Introduzca un año: \"))\n",
        "if año%4==0 and año%100!=0:\n",
        "  print(f\"{año} es un año bisiesto\")\n",
        "else:\n",
        "  if año%400==0:\n",
        "    print(f\"{año} es un año bisiesto\")\n",
        "  else:\n",
        "    print(f\"{año} no un año bisiesto\")"
      ],
      "metadata": {
        "colab": {
          "base_uri": "https://localhost:8080/"
        },
        "id": "fCndpMGeNuav",
        "outputId": "b508938f-6258-4ae3-b528-1b9d20b1f99a"
      },
      "execution_count": 46,
      "outputs": [
        {
          "output_type": "stream",
          "name": "stdout",
          "text": [
            "Introduzca un año: 2024\n",
            "2024 es un año bisiesto\n"
          ]
        }
      ]
    },
    {
      "cell_type": "code",
      "source": [
        "#if-elif-else\n",
        "año=int(input(\"Introduzca un año: \"))\n",
        "if año%4==0 and año%100!=0: print(f\"{año} es un año bisiesto\")\n",
        "elif año%400==0: print(f\"{año} es un año bisiesto\")\n",
        "else:print(f\"{año} no un año bisiesto\")"
      ],
      "metadata": {
        "colab": {
          "base_uri": "https://localhost:8080/"
        },
        "id": "krFL6OIxN2Ve",
        "outputId": "1215482f-34ac-48ca-dff1-74aa52a12125"
      },
      "execution_count": 48,
      "outputs": [
        {
          "output_type": "stream",
          "name": "stdout",
          "text": [
            "Introduzca un año: 2006\n",
            "2006 no un año bisiesto\n"
          ]
        }
      ]
    },
    {
      "cell_type": "code",
      "source": [
        "#Operador terniario\n",
        "año = int(input(\"Ingrese un año: \"))\n",
        "r = (\n",
        "    f\"{año} es un año bisiesto\"\n",
        "    if año % 400 == 0\n",
        "    else (f\"{año} no es un año bisiesto\" if año%100==0 else (f\"{año} es un año bisiesto\" if año%4==0 else f\"{año} no es un año bisiesto\"))\n",
        ")\n",
        "print(r)\n"
      ],
      "metadata": {
        "colab": {
          "base_uri": "https://localhost:8080/"
        },
        "id": "bkJVIttIOiot",
        "outputId": "f477488b-4ebf-4e4c-90b9-71053a77d0cb"
      },
      "execution_count": 53,
      "outputs": [
        {
          "output_type": "stream",
          "name": "stdout",
          "text": [
            "Ingrese un año: 2024\n",
            "2024 es un año bisiesto\n"
          ]
        }
      ]
    },
    {
      "cell_type": "markdown",
      "source": [
        "8. Contraseña"
      ],
      "metadata": {
        "id": "hiD68RlGPWus"
      }
    },
    {
      "cell_type": "code",
      "source": [
        "#if-else\n",
        "p = input(\"Contraseña: \")\n",
        "\n",
        "if len(p) < 8:\n",
        "    print(\"Contraseña muy corta\")\n",
        "else:\n",
        "    if not any(c.isdigit() for c in p):\n",
        "        print(\"Falta que tenga uno o más números\")\n",
        "    else:\n",
        "        if not any(c.isupper() for c in p):\n",
        "            print(\"Faltan mayúsculas\")\n",
        "        else:\n",
        "            print(\"Contraseña valida\")"
      ],
      "metadata": {
        "colab": {
          "base_uri": "https://localhost:8080/"
        },
        "id": "wGtnuOxNP6nG",
        "outputId": "8d14dff2-e273-47ee-e243-70fe70573e6f"
      },
      "execution_count": 76,
      "outputs": [
        {
          "output_type": "stream",
          "name": "stdout",
          "text": [
            "Contraseña: harryagM7\n",
            "Contraseña valida\n"
          ]
        }
      ]
    },
    {
      "cell_type": "code",
      "source": [
        "#if-elif-else\n",
        "p = input(\"Contraseña: \")\n",
        "\n",
        "if len(p) < 8:\n",
        "    print(\"Contraseña muy corta\")\n",
        "elif not any(c.isdigit() for c in p):\n",
        "    print(\"Falta que tenga uno o más números\")\n",
        "elif not any(c.isupper() for c in p):\n",
        "    print(\"Faltan mayúsculas\")\n",
        "else:\n",
        "    print(\"Contraseña valida\")"
      ],
      "metadata": {
        "id": "KdSUaqagVTKN"
      },
      "execution_count": null,
      "outputs": []
    },
    {
      "cell_type": "code",
      "source": [
        "#Operación terniario\n",
        "p = input(\"Contraseña: \")\n",
        "print(\"Contraseña valida\" if len(p) >= 8 and any(c.isdigit() for c in p) and any(c.isupper() for c in p) else \"Contraseña muy corta\" if len(p) < 8 else \"Falta que tenga uno o más números\" if not any(c.isdigit() for c in p) else \"Faltan mayúsculas\")"
      ],
      "metadata": {
        "id": "3MsTTVxbWhiE"
      },
      "execution_count": null,
      "outputs": []
    },
    {
      "cell_type": "markdown",
      "source": [
        "9.programa que lea un número e imprima “Fizz” si es divisible por 3, “Buzz” si es divisible por 5 y “FizzBuzz” si es divisible por ambos."
      ],
      "metadata": {
        "id": "MsNb-x6TXbKd"
      }
    },
    {
      "cell_type": "code",
      "source": [
        "#if-else\n",
        "n=int(input(\"Ingrese un número: \"))\n",
        "\n",
        "if n%3== 0 and n%5==0:\n",
        "    print(\"FizzBuzz\")\n",
        "else:\n",
        "    if n%3==0:\n",
        "        print(\"Fizz\")\n",
        "    else:\n",
        "        if n%5==0:\n",
        "            print(\"Buzz\")\n",
        "        else:\n",
        "            print(n)"
      ],
      "metadata": {
        "colab": {
          "base_uri": "https://localhost:8080/"
        },
        "id": "cfjM5u1MXksW",
        "outputId": "b78289f4-acaf-443b-cda2-f4a00c30b8f4"
      },
      "execution_count": 79,
      "outputs": [
        {
          "output_type": "stream",
          "name": "stdout",
          "text": [
            "Ingrese un número: 15\n",
            "FizzBuzz\n"
          ]
        }
      ]
    },
    {
      "cell_type": "code",
      "source": [
        "#if-elif-else\n",
        "n=int(input(\"Ingrese un número: \"))\n",
        "\n",
        "if n%3==0 and n%5==0:\n",
        "    print(\"FizzBuzz\")\n",
        "elif n%3==0:\n",
        "    print(\"Fizz\")\n",
        "elif n%5==0:\n",
        "    print(\"Buzz\")\n",
        "else:\n",
        "    print(n)"
      ],
      "metadata": {
        "colab": {
          "base_uri": "https://localhost:8080/"
        },
        "id": "Nm3POTo7YAcF",
        "outputId": "f4d5673e-0486-4f0c-8444-13f878a1aec0"
      },
      "execution_count": 82,
      "outputs": [
        {
          "output_type": "stream",
          "name": "stdout",
          "text": [
            "Ingrese un número: 15\n",
            "FizzBuzz\n"
          ]
        }
      ]
    },
    {
      "cell_type": "code",
      "source": [
        "#Operación ternaria\n",
        "print(\"FizzBuzz\" if (n := int(input(\"Número: \"))) % 15 == 0 else \"Fizz\" if n % 3 == 0 else \"Buzz\" if n % 5 == 0 else n)"
      ],
      "metadata": {
        "colab": {
          "base_uri": "https://localhost:8080/"
        },
        "id": "fk0GYy57Ylw2",
        "outputId": "921b226a-d380-4b8d-8f84-cfd201c51878"
      },
      "execution_count": 85,
      "outputs": [
        {
          "output_type": "stream",
          "name": "stdout",
          "text": [
            "Número: 15\n",
            "FizzBuzz\n"
          ]
        }
      ]
    },
    {
      "cell_type": "markdown",
      "source": [
        "10.cajero automático"
      ],
      "metadata": {
        "id": "XXQ09OfSYug2"
      }
    },
    {
      "cell_type": "code",
      "source": [
        "#if-else\n",
        "s=5000000 #saldo del cajero\n",
        "m=int(input(\"Ingrese el dinero para retirar: $\"))\n",
        "\n",
        "if m<=0:\n",
        "    print(\"Error: El monto debe ser mayor que $0\")\n",
        "else:\n",
        "    if m>s:\n",
        "        print(\"Error: Fondos insuficientes\")\n",
        "    else:\n",
        "        s=s-m\n",
        "        print(f\"Retiro exitoso, Saldo en la cuenta: ${s}\")"
      ],
      "metadata": {
        "colab": {
          "base_uri": "https://localhost:8080/"
        },
        "id": "0ZDoj4H6Y4Um",
        "outputId": "8f8e0b73-9c14-48d3-d286-c4a6b8d4aa79"
      },
      "execution_count": 90,
      "outputs": [
        {
          "output_type": "stream",
          "name": "stdout",
          "text": [
            "Ingrese el dinero para retirar: $50000\n",
            "Retiro exitoso. Nuevo saldo: $4950000\n"
          ]
        }
      ]
    },
    {
      "cell_type": "code",
      "source": [
        "#if-elif-else\n",
        "s=5000000 #saldo del cajero\n",
        "m=int(input(\"Ingrese el dinero para retirar: $\"))\n",
        "\n",
        "if m<=0:\n",
        "    print(\"Error: El monto debe ser mayor que $0\")\n",
        "elif m>s:\n",
        "    print(\"Error: Fondos insuficientes\")\n",
        "else:\n",
        "    s-=m\n",
        "    print(f\"Retiro exitoso, Saldo en la cuenta: ${s}\")"
      ],
      "metadata": {
        "colab": {
          "base_uri": "https://localhost:8080/"
        },
        "id": "spubon8MaNaG",
        "outputId": "3b448d84-76b8-4d23-df18-b7c335762df2"
      },
      "execution_count": 92,
      "outputs": [
        {
          "output_type": "stream",
          "name": "stdout",
          "text": [
            "Ingrese el dinero para retirar: $80000\n",
            "Retiro exitoso, Saldo en la cuenta: $4920000\n"
          ]
        }
      ]
    },
    {
      "cell_type": "code",
      "source": [
        "#Operación ternaria\n",
        "s = 5000000; m = int(input(\"Ingrese el dinero para retirar: $\")); print(\"Error: El monto debe ser mayor que $0\" if m <= 0 else \"Error: Fondos insuficientes\" if m > s else f\"Retiro exitoso, Saldo en la cuenta: ${s - m}\")"
      ],
      "metadata": {
        "colab": {
          "base_uri": "https://localhost:8080/"
        },
        "id": "B00ovwk0akz-",
        "outputId": "0ebf0317-326d-4888-c4b7-910ddd8e95ab"
      },
      "execution_count": 93,
      "outputs": [
        {
          "output_type": "stream",
          "name": "stdout",
          "text": [
            "Ingrese el dinero para retirar: $4300000\n",
            "Retiro exitoso, Saldo en la cuenta: $700000\n"
          ]
        }
      ]
    }
  ]
}