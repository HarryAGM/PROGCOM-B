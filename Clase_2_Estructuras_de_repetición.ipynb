{
  "nbformat": 4,
  "nbformat_minor": 0,
  "metadata": {
    "colab": {
      "provenance": [],
      "authorship_tag": "ABX9TyM/knncKTIgz5rJhJZJFsCe",
      "include_colab_link": true
    },
    "kernelspec": {
      "name": "python3",
      "display_name": "Python 3"
    },
    "language_info": {
      "name": "python"
    }
  },
  "cells": [
    {
      "cell_type": "markdown",
      "metadata": {
        "id": "view-in-github",
        "colab_type": "text"
      },
      "source": [
        "<a href=\"https://colab.research.google.com/github/HarryAGM/PROGCOM-B/blob/main/Clase_2_Estructuras_de_repetici%C3%B3n.ipynb\" target=\"_parent\"><img src=\"https://colab.research.google.com/assets/colab-badge.svg\" alt=\"Open In Colab\"/></a>"
      ]
    },
    {
      "cell_type": "markdown",
      "source": [
        "#Estructuras de repetición\n",
        "se emplean cuando se requiere repetir una parte del codigó, dada una condición"
      ],
      "metadata": {
        "id": "exb36i2enIiu"
      }
    },
    {
      "cell_type": "markdown",
      "source": [
        "##Listas\n",
        "Son un conjunto de tipo de datos **indexado**, separado por comas, y encerrado entre [].\n",
        "* Todos los elementos dentro de una lista, se empieza a contar desde 0.\n",
        "####Creación de listas\n",
        "*Forma general: lista=[]\n",
        "*Forma manual: animales=[\"Gato\",\"perro\",\"zorro\",\"oso\"]\n",
        "*Por conversión: número=list(range(10))\n"
      ],
      "metadata": {
        "id": "FKPWgRpcwjo2"
      }
    },
    {
      "cell_type": "code",
      "source": [
        "lista=[]"
      ],
      "metadata": {
        "id": "VWok3ZwlxsKl"
      },
      "execution_count": null,
      "outputs": []
    },
    {
      "cell_type": "code",
      "source": [
        "type(lista)"
      ],
      "metadata": {
        "id": "LwcHlVltx0qU"
      },
      "execution_count": null,
      "outputs": []
    },
    {
      "cell_type": "code",
      "source": [
        "zorro=(1,2,3,4)\n",
        "animales=[\"Gato\",\"perro\",zorro,\"oso\"]\n",
        "animales"
      ],
      "metadata": {
        "colab": {
          "base_uri": "https://localhost:8080/"
        },
        "id": "lot4O_LIySuc",
        "outputId": "051ff296-0c27-49c6-cdc0-0622acb667bf"
      },
      "execution_count": 1,
      "outputs": [
        {
          "output_type": "execute_result",
          "data": {
            "text/plain": [
              "['Gato', 'perro', (1, 2, 3, 4), 'oso']"
            ]
          },
          "metadata": {},
          "execution_count": 1
        }
      ]
    },
    {
      "cell_type": "code",
      "source": [
        "type(zorro)"
      ],
      "metadata": {
        "colab": {
          "base_uri": "https://localhost:8080/"
        },
        "id": "2pSylSqoykx8",
        "outputId": "dea35882-c21f-45de-c520-1d03bf4671c5"
      },
      "execution_count": 2,
      "outputs": [
        {
          "output_type": "execute_result",
          "data": {
            "text/plain": [
              "tuple"
            ]
          },
          "metadata": {},
          "execution_count": 2
        }
      ]
    },
    {
      "cell_type": "code",
      "source": [
        "número=list(range(10))\n",
        "número"
      ],
      "metadata": {
        "colab": {
          "base_uri": "https://localhost:8080/"
        },
        "id": "tuR_xy_izkGb",
        "outputId": "48e91fa0-6e85-431b-dc9c-a64de2daa7b9"
      },
      "execution_count": 5,
      "outputs": [
        {
          "output_type": "execute_result",
          "data": {
            "text/plain": [
              "[0, 1, 2, 3, 4, 5, 6, 7, 8, 9]"
            ]
          },
          "metadata": {},
          "execution_count": 5
        }
      ]
    },
    {
      "cell_type": "code",
      "source": [
        "range(10)"
      ],
      "metadata": {
        "colab": {
          "base_uri": "https://localhost:8080/"
        },
        "id": "Y6YBadynztSM",
        "outputId": "81c75bd1-95d8-4c88-f958-222cb8939237"
      },
      "execution_count": 4,
      "outputs": [
        {
          "output_type": "execute_result",
          "data": {
            "text/plain": [
              "range(0, 10)"
            ]
          },
          "metadata": {},
          "execution_count": 4
        }
      ]
    },
    {
      "cell_type": "code",
      "source": [
        "type(range(10))"
      ],
      "metadata": {
        "colab": {
          "base_uri": "https://localhost:8080/"
        },
        "id": "UDmVW4cXz1lL",
        "outputId": "96ab682b-4262-4d5a-fb4e-d5c9cad7d048"
      },
      "execution_count": 6,
      "outputs": [
        {
          "output_type": "execute_result",
          "data": {
            "text/plain": [
              "range"
            ]
          },
          "metadata": {},
          "execution_count": 6
        }
      ]
    },
    {
      "cell_type": "markdown",
      "source": [
        "##Estructura para - for\n",
        "\n",
        "se usan cuando\n",
        "* Se sabe ** cuantas veces** se repite una acción.\n",
        "* Esta compuesta por un contador y una condición\n",
        "* **Condición**: Identifica cuantas veces se va a repetir el bucle y con que frecuencia.\n",
        "\n",
        "Por definición:\n",
        "\n",
        "\n",
        "```\n",
        "for variable in range(vi, vf+i, paso):\n",
        "  aquí se repite parte del codigó.\n",
        "\n",
        "```\n",
        "Donde:\n",
        "1. vi: condición inicial. Donde arranco a contar.\n",
        "2. vf+i: condición final. Donde dejo contar+1.\n",
        "3. paso: Es la frecuencía de conteo.\n",
        "\n",
        "for para recorrido de listas\n",
        "flor=[\"amapola\",\"rosa\",\"tulipan\",\"orquidea\"]\n",
        "\n",
        "* El para va a iterar tantas veces como elementos tenga la lista\n",
        "* Variable dentrod del para, toma como valor, cada elemento de la lista\n",
        "```\n",
        "for variable in lista:\n",
        "  variable\n",
        "```\n",
        "\n"
      ],
      "metadata": {
        "id": "mzqmimnVnUAU"
      }
    },
    {
      "cell_type": "code",
      "source": [
        "#Creando una lista de nombre flor\n",
        "flor=[\"amapola\",\"rosa\",\"tulipan\",\"orquídea\"]\n",
        "flores=5\n",
        "for flores in flor:\n",
        "  print(flores)\n",
        "  if flores==\"tulipan\":\n",
        "    break"
      ],
      "metadata": {
        "colab": {
          "base_uri": "https://localhost:8080/"
        },
        "id": "AXk__3FY1XFD",
        "outputId": "5a6006b1-f650-4e8f-dcff-17ab4d6ea700"
      },
      "execution_count": 10,
      "outputs": [
        {
          "output_type": "stream",
          "name": "stdout",
          "text": [
            "amapola\n",
            "rosa\n",
            "tulipan\n"
          ]
        }
      ]
    },
    {
      "cell_type": "markdown",
      "source": [
        "##Estructura while\n",
        "* Se emplea cuando **NO SE SABE** cuántas veces se debe repetir una acción, pero se conoce su condición de parada (CP).\n",
        "* Condición inicial: DOnde arranca el ciclo\n",
        "* Condición final (parada): Que indica dónde se detiene el ciclo\n",
        "* Modificador de condición inicial\n",
        "\n",
        "Estructura general del mientras\n",
        "\n",
        "```\n",
        "Condición inicial\n",
        "while (condición==COndición final):\n",
        "  modificador de condición inicial\n",
        "```\n",
        "Modificadores de condición inicial\n",
        "* Banderas: Son booleanos\n",
        "* son preguntas\n",
        "* son contadores o acumuladores\n"
      ],
      "metadata": {
        "id": "XpbyEYvG2UWS"
      }
    }
  ]
}