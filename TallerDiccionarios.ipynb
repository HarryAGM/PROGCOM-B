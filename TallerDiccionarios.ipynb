{
  "nbformat": 4,
  "nbformat_minor": 0,
  "metadata": {
    "colab": {
      "provenance": [],
      "authorship_tag": "ABX9TyM1MEx2s2dBxcVVa1j38FjK",
      "include_colab_link": true
    },
    "kernelspec": {
      "name": "python3",
      "display_name": "Python 3"
    },
    "language_info": {
      "name": "python"
    }
  },
  "cells": [
    {
      "cell_type": "markdown",
      "metadata": {
        "id": "view-in-github",
        "colab_type": "text"
      },
      "source": [
        "<a href=\"https://colab.research.google.com/github/HarryAGM/PROGCOM-B/blob/main/TallerDiccionarios.ipynb\" target=\"_parent\"><img src=\"https://colab.research.google.com/assets/colab-badge.svg\" alt=\"Open In Colab\"/></a>"
      ]
    },
    {
      "cell_type": "markdown",
      "source": [
        "3. Crea una función que reciba dos números y retorne su suma, resta, multiplicación y división."
      ],
      "metadata": {
        "id": "9sTU62xf6ILE"
      }
    },
    {
      "cell_type": "code",
      "execution_count": 35,
      "metadata": {
        "id": "qCJDKEe62xxL"
      },
      "outputs": [],
      "source": [
        "#12. Crea una función que reciba una lista de números y retorne solo los que son primos.\n",
        "def primos(a):\n",
        "  c=0\n",
        "  for num in range(1,a+1):\n",
        "    if a % num==0:\n",
        "      c=c+1\n",
        "  if c == 2:\n",
        "    print(f\"{a} Es primo\")\n",
        "  else:\n",
        "    print(f\"{a} No es primo\")\n",
        "\n",
        "\n",
        "\n",
        ""
      ]
    },
    {
      "cell_type": "code",
      "source": [
        "def lista_primos(a):\n",
        "  lista=[]\n",
        "  for i in a:\n",
        "    primos(i)\n",
        ""
      ],
      "metadata": {
        "id": "z0x1vNwLIDQs"
      },
      "execution_count": 36,
      "outputs": []
    },
    {
      "cell_type": "code",
      "source": [
        "lista_primos(yuca)"
      ],
      "metadata": {
        "colab": {
          "base_uri": "https://localhost:8080/"
        },
        "id": "iWped_DhIutx",
        "outputId": "25856e37-282e-4fcf-830c-fac05aefc41e"
      },
      "execution_count": 37,
      "outputs": [
        {
          "output_type": "stream",
          "name": "stdout",
          "text": [
            "1 No es primo\n",
            "2 Es primo\n",
            "3 Es primo\n",
            "4 No es primo\n",
            "5 Es primo\n",
            "6 No es primo\n"
          ]
        }
      ]
    },
    {
      "cell_type": "code",
      "source": [
        "c=0\n",
        "n=int(input(\"Ingrese un numero:\"))\n",
        "for num in range(1,n+1):\n",
        "  if n % num==0:\n",
        "    c=c+1\n",
        "if c == 2:\n",
        "  print(f\"{n} Es primo\")\n",
        "else:\n",
        "  print(f\"{n} No es primo\")\n"
      ],
      "metadata": {
        "colab": {
          "base_uri": "https://localhost:8080/"
        },
        "id": "z31QNbTr-f0J",
        "outputId": "45c52ebb-601b-4bc4-d365-d201646f28af"
      },
      "execution_count": 19,
      "outputs": [
        {
          "output_type": "stream",
          "name": "stdout",
          "text": [
            "Ingrese un numero:4\n",
            "4 no es primo\n"
          ]
        }
      ]
    },
    {
      "cell_type": "code",
      "source": [
        "yuca=[1,2,3,4,5,6]\n",
        "for i in yuca:\n",
        "  print(i)"
      ],
      "metadata": {
        "colab": {
          "base_uri": "https://localhost:8080/"
        },
        "id": "ID0zeeFiGm5j",
        "outputId": "f1366621-d995-4e29-bf0d-7d824d0349b3"
      },
      "execution_count": 21,
      "outputs": [
        {
          "output_type": "stream",
          "name": "stdout",
          "text": [
            "1\n",
            "2\n",
            "3\n",
            "4\n",
            "5\n",
            "6\n"
          ]
        }
      ]
    },
    {
      "cell_type": "code",
      "source": [
        "#Diccionario\n"
      ],
      "metadata": {
        "id": "arfaT4wmJ5Tg"
      },
      "execution_count": null,
      "outputs": []
    }
  ]
}