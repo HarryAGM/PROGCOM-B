{
  "nbformat": 4,
  "nbformat_minor": 0,
  "metadata": {
    "colab": {
      "provenance": [],
      "authorship_tag": "ABX9TyOEDCThmKBz+uAYQmXh7wyr",
      "include_colab_link": true
    },
    "kernelspec": {
      "name": "python3",
      "display_name": "Python 3"
    },
    "language_info": {
      "name": "python"
    }
  },
  "cells": [
    {
      "cell_type": "markdown",
      "metadata": {
        "id": "view-in-github",
        "colab_type": "text"
      },
      "source": [
        "<a href=\"https://colab.research.google.com/github/HarryAGM/PROGCOM-B/blob/main/Clase_1_Estructura_de_selecci%C3%B3n.ipynb\" target=\"_parent\"><img src=\"https://colab.research.google.com/assets/colab-badge.svg\" alt=\"Open In Colab\"/></a>"
      ]
    },
    {
      "cell_type": "markdown",
      "source": [
        "#Esctructura de selección\n",
        "Se emplean cuando quiero evaluar una condición El resultado de la evaluación de esta condición siempre se da en Booleano (V o F)."
      ],
      "metadata": {
        "id": "zU-QRFamMZDD"
      }
    },
    {
      "cell_type": "markdown",
      "source": [
        "##Estructura if-else\n",
        "\n",
        "\n",
        "\n",
        "```\n",
        "if (condición):\n",
        "  entro aquí, si la condición dio V\n",
        "else:\n",
        "  entro aquí si la condición = F\n",
        "\n",
        "```\n",
        "\n",
        "\n"
      ],
      "metadata": {
        "id": "u4EiMuO6Mrzj"
      }
    },
    {
      "cell_type": "markdown",
      "source": [
        "7. Año bisiesto\n"
      ],
      "metadata": {
        "id": "--_7Eiu8NUVr"
      }
    },
    {
      "cell_type": "code",
      "source": [
        "#1. Es divisible entre 4\n",
        "#2. Es divisible entre 400 pero no entre 100\n",
        "año=int(input(\"Introduzca un año: \"))\n",
        "if año%4==0 and año100!=0:\n",
        "  print(f\"{año} es un año bisiesto\")\n",
        "else:\n",
        "  if año%400==0:\n",
        "    print(f\"{año} es un año bisiesto\")\n",
        "  else:\n",
        "    print(f\"{año} no un año bisiesto\")\n",
        "\n"
      ],
      "metadata": {
        "id": "pnCNFPOANYxz",
        "colab": {
          "base_uri": "https://localhost:8080/"
        },
        "outputId": "595495e0-a438-45d0-8759-29053a651775"
      },
      "execution_count": 34,
      "outputs": [
        {
          "output_type": "stream",
          "name": "stdout",
          "text": [
            "Introduzca un año: 2007\n",
            "2007 no un año bisiesto\n"
          ]
        }
      ]
    },
    {
      "cell_type": "markdown",
      "source": [
        "##Estructura de decisión múltiple if-elif-else\n",
        "se emplea cuando hay más de una decisión\n",
        "\n",
        "\n",
        "```\n",
        "if (cond1):\n",
        "  si cond1 es verdadero, entro aquí\n",
        "elif (cond2):\n",
        "  si cond1 es falso, PERO cond2 es verdadero, entro aquí\n",
        "elif (cond3):\n",
        "  si cond1, cond2 son falsos, PERO cond3 es verdadero, entro aquí\n",
        "else: si cond1 y cond2 y cond3 y cond n son falsas, entrará aquí\n",
        "\n",
        "```\n",
        "\n"
      ],
      "metadata": {
        "id": "l7VwPQe3PyB7"
      }
    },
    {
      "cell_type": "code",
      "source": [
        "if año%4==0 and año100!=0: print(f\"{año} es un año bisiesto\")\n",
        "elif año%400==0: print(f\"{año} es un año bisiesto\")\n",
        "else:print(f\"{año} no un año bisiesto\")"
      ],
      "metadata": {
        "id": "AG5TURsvQnKp"
      },
      "execution_count": null,
      "outputs": []
    },
    {
      "cell_type": "markdown",
      "source": [
        "##Operador terniario\n",
        "Programar una estrutucra de selección en una sola línea de código\n",
        "\n",
        "\n",
        "```\n",
        "(lo que se debe ejecutar, si la codición es verdadera) if (condición) else (lo que se debe ejecutar, si la condición es falsa)\n",
        "```\n",
        "\n"
      ],
      "metadata": {
        "id": "widRPD_5SnOI"
      }
    },
    {
      "cell_type": "code",
      "source": [
        "año=int(input(\"Ingrese un año: \" ))\n",
        "a=f\"{año} es un año bisiesto\" if (año%4==0 and año%100!=0) else b\n",
        "b=f\"{año} es un año bisiesto\" if año%400==0 else  f\"{año} No un año bisiesto\"\n",
        "print(a)"
      ],
      "metadata": {
        "id": "O3ylPHH-TRAH",
        "colab": {
          "base_uri": "https://localhost:8080/"
        },
        "outputId": "bf96e74f-5fab-480b-c019-ac624a7e5484"
      },
      "execution_count": 2,
      "outputs": [
        {
          "output_type": "stream",
          "name": "stdout",
          "text": [
            "Ingrese un año: 2000\n",
            "\n"
          ]
        }
      ]
    },
    {
      "cell_type": "markdown",
      "source": [
        "1.Indicar si un numero es positivo\n"
      ],
      "metadata": {
        "id": "LKQQ_40rTR_S"
      }
    },
    {
      "cell_type": "code",
      "source": [
        "#if-else\n",
        "n=int(input(\"Ingrese un numero: \"))\n",
        "if n>0:\n",
        "  print(f\"El {n} es postivo\")\n",
        "else:\n",
        "  print(f\"El {n} es negativo\")"
      ],
      "metadata": {
        "colab": {
          "base_uri": "https://localhost:8080/"
        },
        "id": "TWQ5jugTTc8H",
        "outputId": "9f847a66-8a41-4270-d47f-f9458946e506"
      },
      "execution_count": null,
      "outputs": [
        {
          "output_type": "stream",
          "name": "stdout",
          "text": [
            "Ingrese un numero: -5\n",
            "El -5 es negativo\n"
          ]
        }
      ]
    },
    {
      "cell_type": "code",
      "source": [
        "#if-elif-else\n",
        "n=int(input(\"Ingrese un numero: \"))\n",
        "if n>0:\n",
        "  print(f\"El {n} es postivo\")\n",
        "elif n==0:\n",
        "  print(f\"El {n} es cero\")\n",
        "else:\n",
        "  print(f\"El {n} es negativo\")"
      ],
      "metadata": {
        "colab": {
          "base_uri": "https://localhost:8080/"
        },
        "id": "eJ8-3eIZTm9v",
        "outputId": "922c8800-cbf5-4125-d659-29ef3b7b6414"
      },
      "execution_count": null,
      "outputs": [
        {
          "output_type": "stream",
          "name": "stdout",
          "text": [
            "Ingrese un numero: 0\n",
            "El 0 numero es cero\n"
          ]
        }
      ]
    },
    {
      "cell_type": "code",
      "source": [
        "#Operador terniario\n",
        "n=int(input(\"Ingrese un numero: \"))\n",
        "print(f\"El {n} es postivo\") if (n>0) else print(f\"El {n} es negativo\")"
      ],
      "metadata": {
        "colab": {
          "base_uri": "https://localhost:8080/"
        },
        "id": "04Tsn4BOcUbN",
        "outputId": "21490f15-ee3c-405e-aaac-f19d37a0f42c"
      },
      "execution_count": 5,
      "outputs": [
        {
          "output_type": "stream",
          "name": "stdout",
          "text": [
            "Ingrese un numero: -5\n",
            "El -5 es negativo\n"
          ]
        }
      ]
    },
    {
      "cell_type": "markdown",
      "source": [
        "2.Determinar si es mayor de edad o no"
      ],
      "metadata": {
        "id": "vT1tTUb3VBYe"
      }
    },
    {
      "cell_type": "code",
      "source": [
        "#if-else\n",
        "n=int(input(\"Ingresar edad:\"))\n",
        "if n>=18:\n",
        "  print(\"Usted es mayor de edad\")\n",
        "else:\n",
        "  print(\"Usted es menor de edad\")"
      ],
      "metadata": {
        "colab": {
          "base_uri": "https://localhost:8080/"
        },
        "id": "9uipF9k2VDpe",
        "outputId": "66736250-49de-476f-a40c-1f1631a697a8"
      },
      "execution_count": null,
      "outputs": [
        {
          "output_type": "stream",
          "name": "stdout",
          "text": [
            "Ingresar edad:18\n",
            "Usted es mayor de edad\n"
          ]
        }
      ]
    },
    {
      "cell_type": "code",
      "source": [
        "#if-elif-else\n",
        "n=int(input(\"Ingresar edad:\"))\n",
        "if n>18:\n",
        "  print(\"Usted es mayor de edad\")\n",
        "elif n==18:\n",
        "  print(\"Usted es mayor de edad\")\n",
        "else:\n",
        "  print(\"Usted es menor de edad\")"
      ],
      "metadata": {
        "colab": {
          "base_uri": "https://localhost:8080/"
        },
        "id": "qq4Zgk8eVQpG",
        "outputId": "b54dfd6b-c094-40e9-8a1e-5f2793ecddfd"
      },
      "execution_count": null,
      "outputs": [
        {
          "output_type": "stream",
          "name": "stdout",
          "text": [
            "Ingresar edad:18\n",
            "Usted es mayor de edad\n"
          ]
        }
      ]
    },
    {
      "cell_type": "code",
      "source": [
        "#Operador terniario\n",
        "n=int(input(\"Ingresar edad:\"))\n",
        "print(\"Usted es mayor de edad\") if (n>=18) else print(\"Usted es menor de edad\")"
      ],
      "metadata": {
        "colab": {
          "base_uri": "https://localhost:8080/"
        },
        "id": "QjOZTj94cxGq",
        "outputId": "644aa19e-b06e-4342-afe9-7a37d374d293"
      },
      "execution_count": 8,
      "outputs": [
        {
          "output_type": "stream",
          "name": "stdout",
          "text": [
            "Ingresar edad:19\n",
            "Usted es mayor de edad\n"
          ]
        }
      ]
    },
    {
      "cell_type": "markdown",
      "source": [
        "3.Ingresar numero mayor"
      ],
      "metadata": {
        "id": "B3y9rWknVqMe"
      }
    },
    {
      "cell_type": "code",
      "source": [
        "#if-else\n",
        "n=int(input(\"Ingresar numero A: \"))\n",
        "l=int(input(\"Ingresar numero B: \"))\n",
        "if n>l:\n",
        "  print(f\"El numero {n} es mayor que {l}\")\n",
        "else:\n",
        "  print(f\"El numero {l} es mayor que {n}\")"
      ],
      "metadata": {
        "colab": {
          "base_uri": "https://localhost:8080/"
        },
        "id": "VOJm5gFoVvE9",
        "outputId": "a5933c93-9afa-4444-afd7-69eec3ab1693"
      },
      "execution_count": null,
      "outputs": [
        {
          "output_type": "stream",
          "name": "stdout",
          "text": [
            "Ingresar numero A: 4\n",
            "Ingresar numero B: 6\n",
            "El numero 6 es mayor que 4\n"
          ]
        }
      ]
    },
    {
      "cell_type": "code",
      "source": [
        "#if-elif-else\n",
        "n=int(input(\"Ingresar numero A: \"))\n",
        "l=int(input(\"Ingresar numero B: \"))\n",
        "if n>l:\n",
        "  print(f\"El numero {n} es mayor que {l}\")\n",
        "elif n<0 and l<0:\n",
        "  print(f\"El numero\")\n",
        "else:\n",
        "  print(f\"El numero {l} es mayor que {n}\")"
      ],
      "metadata": {
        "id": "LnHikLwxWmdY",
        "colab": {
          "base_uri": "https://localhost:8080/"
        },
        "outputId": "e8317051-6368-4dd3-bd0c-31039e687ade"
      },
      "execution_count": 10,
      "outputs": [
        {
          "output_type": "stream",
          "name": "stdout",
          "text": [
            "Ingresar numero A: 7\n",
            "Ingresar numero B: 4\n",
            "El numero 7 es mayor que 4\n"
          ]
        }
      ]
    },
    {
      "cell_type": "code",
      "source": [
        "#Operador terniario\n",
        "n=int(input(\"Ingresar numero A: \"))\n",
        "l=int(input(\"Ingresar numero B: \"))\n",
        "print(f\"El numero {n} es mayor que {l}\") if (n>l) else print(f\"El numero {l} es mayor que {n}\")"
      ],
      "metadata": {
        "colab": {
          "base_uri": "https://localhost:8080/"
        },
        "id": "3AeKO51OdWEa",
        "outputId": "e1d3508c-9703-43ee-e2c5-ef986e17cf84"
      },
      "execution_count": 11,
      "outputs": [
        {
          "output_type": "stream",
          "name": "stdout",
          "text": [
            "Ingresar numero A: 2\n",
            "Ingresar numero B: 5\n",
            "El numero 5 es mayor que 2\n"
          ]
        }
      ]
    },
    {
      "cell_type": "markdown",
      "source": [
        "4.Aprobó o no aprobó\n"
      ],
      "metadata": {
        "id": "C5MSOAB1eDa6"
      }
    },
    {
      "cell_type": "code",
      "source": [
        "#if-else\n",
        "n=int(input(\"Ingrese su calificación de 0 a 100: \"))\n",
        "if n>=60:\n",
        "  print(\"Aprobó\")\n",
        "else:\n",
        "  print(\"Reprobó\")"
      ],
      "metadata": {
        "colab": {
          "base_uri": "https://localhost:8080/"
        },
        "id": "XSrZbZoXeKIB",
        "outputId": "ff1ffdf6-9582-4ebc-83ac-92d8161299c3"
      },
      "execution_count": 14,
      "outputs": [
        {
          "output_type": "stream",
          "name": "stdout",
          "text": [
            "Ingrese su calificación de 0 a 100: 65\n",
            "Aprobó\n"
          ]
        }
      ]
    },
    {
      "cell_type": "code",
      "source": [
        "#if-elif-else\n",
        "n=int(input(\"Ingrese su calificación de 0 a 100: \"))\n",
        "if n>60:\n",
        "  print(\"Aprobó\")\n",
        "elif n==60:\n",
        "  print(\"Aprobó\")\n",
        "else:\n",
        "  print(\"Reprobó\")\n"
      ],
      "metadata": {
        "colab": {
          "base_uri": "https://localhost:8080/"
        },
        "id": "_YRCfnY1eXHy",
        "outputId": "5d4c7bd7-bbe6-4af5-ae73-75d3a9800018"
      },
      "execution_count": 27,
      "outputs": [
        {
          "output_type": "stream",
          "name": "stdout",
          "text": [
            "Ingrese su calificación de 0 a 100: 60\n",
            "Aprobó\n"
          ]
        }
      ]
    },
    {
      "cell_type": "code",
      "source": [
        "n=int(input(\"Ingrese su calificación de 0 a 100: \"))\n",
        "print(\"Aprobó\") if n>=60 else print(\"Reprobó\")"
      ],
      "metadata": {
        "colab": {
          "base_uri": "https://localhost:8080/"
        },
        "id": "S_SPhwllf5KB",
        "outputId": "f0ad7cb3-ae79-4a71-a121-90ab7d7238f9"
      },
      "execution_count": 29,
      "outputs": [
        {
          "output_type": "stream",
          "name": "stdout",
          "text": [
            "Ingrese su calificación de 0 a 100: 60\n",
            "Aprobó\n"
          ]
        }
      ]
    }
  ]
}