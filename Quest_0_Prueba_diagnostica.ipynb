{
  "nbformat": 4,
  "nbformat_minor": 0,
  "metadata": {
    "colab": {
      "provenance": []
    },
    "kernelspec": {
      "name": "python3",
      "display_name": "Python 3"
    },
    "language_info": {
      "name": "python"
    }
  },
  "cells": [
    {
      "cell_type": "markdown",
      "source": [
        "#Pruba diagnostica"
      ],
      "metadata": {
        "id": "x9n0Q0GUnxj1"
      }
    },
    {
      "cell_type": "markdown",
      "source": [
        "##Parte 1:\n",
        "1.Indicar si un numero es positivo\n",
        "\n",
        "\n"
      ],
      "metadata": {
        "id": "1RzQXVmMoJak"
      }
    },
    {
      "cell_type": "code",
      "execution_count": 8,
      "metadata": {
        "colab": {
          "base_uri": "https://localhost:8080/"
        },
        "id": "4mf8CZNWnFxv",
        "outputId": "56b3a41e-fca6-4384-8397-c6cc22c28408"
      },
      "outputs": [
        {
          "output_type": "stream",
          "name": "stdout",
          "text": [
            "Ingrese un numero: -6\n",
            "El numero es negativo\n"
          ]
        }
      ],
      "source": [
        "n=int(input(\"Ingrese un numero: \"))\n",
        "if n>0:\n",
        "  print(\"El numero es postivo\")\n",
        "if n<0:\n",
        "  print(\"El numero es negativo\")"
      ]
    },
    {
      "cell_type": "markdown",
      "source": [
        "2.Determinar si es mayor de edad o no\n"
      ],
      "metadata": {
        "id": "f0XVfxZssDpp"
      }
    },
    {
      "cell_type": "code",
      "source": [
        "n=int(input(\"Ingresar edad:\"))\n",
        "if n>=18:\n",
        "  print(\"Usted es mayor de edad\")\n",
        "if n<18:\n",
        "  print(\"Usted es menor de edad\")\n"
      ],
      "metadata": {
        "colab": {
          "base_uri": "https://localhost:8080/"
        },
        "id": "U_d6f4TcsQ14",
        "outputId": "6d0e5b94-f61d-4983-fc35-814e6c20bb88"
      },
      "execution_count": 11,
      "outputs": [
        {
          "output_type": "stream",
          "name": "stdout",
          "text": [
            "Ingresar edad:19\n",
            "Usted es mayor de edad\n"
          ]
        }
      ]
    },
    {
      "cell_type": "markdown",
      "source": [
        "3.Ingresar numero mayor"
      ],
      "metadata": {
        "id": "D-ROKJPStGiA"
      }
    },
    {
      "cell_type": "code",
      "source": [
        "n=int(input(\"Ingresar numero A: \"))\n",
        "l=int(input(\"Ingresar numero B: \"))\n",
        "if n>l:\n",
        "  print(\"El numero A es mayor\")\n",
        "elif l>n:\n",
        "  print(\"El numero B es mayor\")"
      ],
      "metadata": {
        "colab": {
          "base_uri": "https://localhost:8080/"
        },
        "id": "2dJlgUwNum8t",
        "outputId": "c0f4087f-7342-467c-b31f-49f0126ff599"
      },
      "execution_count": 19,
      "outputs": [
        {
          "output_type": "stream",
          "name": "stdout",
          "text": [
            "Ingresar numero A: 9\n",
            "Ingresar numero B: 3\n",
            "El numero A es mayor\n"
          ]
        }
      ]
    },
    {
      "cell_type": "markdown",
      "source": [
        "4.Aprobó o no aprobó"
      ],
      "metadata": {
        "id": "W8t66bPUvED-"
      }
    },
    {
      "cell_type": "code",
      "source": [
        "n=int(input(\"Ingrese su calificación de 0 a 100: \"))\n",
        "if n>=60:\n",
        "  print(\"Aprobó\")\n",
        "elif n<60:\n",
        "  print(\"Reprobó\")"
      ],
      "metadata": {
        "colab": {
          "base_uri": "https://localhost:8080/"
        },
        "id": "49stFigovJdF",
        "outputId": "9c895a84-b4e5-4654-b406-8ca9b9e8a11c"
      },
      "execution_count": 24,
      "outputs": [
        {
          "output_type": "stream",
          "name": "stdout",
          "text": [
            "Ingrese su calificación de 0 a 100: 59\n",
            "Reprobó\n"
          ]
        }
      ]
    },
    {
      "cell_type": "markdown",
      "source": [
        "5.par o impar\n"
      ],
      "metadata": {
        "id": "Uf-oC1UmwEXM"
      }
    },
    {
      "cell_type": "code",
      "source": [
        "n=int(input(\"Ingrese un numero: \"))\n",
        "if n % 2 == 0:\n",
        "  print(\"Numero par\")\n",
        "else:\n",
        "  print(\"Numero impar\")"
      ],
      "metadata": {
        "colab": {
          "base_uri": "https://localhost:8080/"
        },
        "id": "zpsxUfyhwJGU",
        "outputId": "85b6322f-31e7-4439-ce93-4a3287c39443"
      },
      "execution_count": 34,
      "outputs": [
        {
          "output_type": "stream",
          "name": "stdout",
          "text": [
            "Ingrese un numero: 7\n",
            "Numero impar\n"
          ]
        }
      ]
    },
    {
      "cell_type": "markdown",
      "source": [
        "6. Mayor de tres numeros\n"
      ],
      "metadata": {
        "id": "y3Kj5WwvxqQz"
      }
    },
    {
      "cell_type": "code",
      "source": [
        "n=int(input(\"Ingresar numero A: \"))\n",
        "l=int(input(\"Ingresar numero B: \"))\n",
        "h=int(input(\"Ingresar numero C: \"))\n",
        "\n",
        "if n>l:\n",
        "  print(\"El numero A es mayor\")\n",
        "elif l>h:\n",
        "  print(\"El numero B es mayor\")\n",
        "elif h>n:\n",
        "  print(\"El numero C es mayor\")"
      ],
      "metadata": {
        "colab": {
          "base_uri": "https://localhost:8080/"
        },
        "id": "tC5H9b6dxwMj",
        "outputId": "8b5c1497-e58f-49e3-c11a-6d61601e3e4c"
      },
      "execution_count": 38,
      "outputs": [
        {
          "output_type": "stream",
          "name": "stdout",
          "text": [
            "Ingresar numero A: 5\n",
            "Ingresar numero B: 48\n",
            "Ingresar numero C: 1000\n",
            "El numero C es mayor\n"
          ]
        }
      ]
    },
    {
      "cell_type": "markdown",
      "source": [
        "7. idique si el año es bisiesto\n"
      ],
      "metadata": {
        "id": "utZ21HPey4Jq"
      }
    },
    {
      "cell_type": "code",
      "source": [
        "n=int (input(\"Escriba un año: \"))\n",
        "if n % 4 == 0:\n",
        "  print(\"El año es bisiesto\")\n",
        "else:\n",
        "  print(\"El año no es bisiesto\")"
      ],
      "metadata": {
        "colab": {
          "base_uri": "https://localhost:8080/"
        },
        "id": "WhjMS0i0zxFh",
        "outputId": "66db4481-babe-4f3f-c07b-cf35b925707c"
      },
      "execution_count": 44,
      "outputs": [
        {
          "output_type": "stream",
          "name": "stdout",
          "text": [
            "Escriba un año: 2020\n",
            "El año es bisiesto\n"
          ]
        }
      ]
    }
  ]
}